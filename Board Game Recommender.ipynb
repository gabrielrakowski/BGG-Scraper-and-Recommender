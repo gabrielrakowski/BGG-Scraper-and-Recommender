{
 "cells": [
  {
   "cell_type": "markdown",
   "id": "cf63b63e",
   "metadata": {},
   "source": [
    "# Loading the csv file into a dataframe."
   ]
  },
  {
   "cell_type": "code",
   "execution_count": 1,
   "id": "a9ea5e63",
   "metadata": {},
   "outputs": [],
   "source": [
    "import pandas as pd"
   ]
  },
  {
   "cell_type": "code",
   "execution_count": 2,
   "id": "9d099248",
   "metadata": {},
   "outputs": [],
   "source": [
    "df = pd.read_csv('bgg_data.csv')\n",
    "df.drop('Unnamed: 0', axis = 1, inplace = True)"
   ]
  },
  {
   "cell_type": "markdown",
   "id": "865cadb8",
   "metadata": {},
   "source": [
    "# Preprocessing the data"
   ]
  },
  {
   "cell_type": "markdown",
   "id": "5d22eb77",
   "metadata": {},
   "source": [
    "## Removing NaN values"
   ]
  },
  {
   "cell_type": "code",
   "execution_count": 3,
   "id": "a0a57160",
   "metadata": {
    "scrolled": true
   },
   "outputs": [
    {
     "data": {
      "text/html": [
       "<div>\n",
       "<style scoped>\n",
       "    .dataframe tbody tr th:only-of-type {\n",
       "        vertical-align: middle;\n",
       "    }\n",
       "\n",
       "    .dataframe tbody tr th {\n",
       "        vertical-align: top;\n",
       "    }\n",
       "\n",
       "    .dataframe thead th {\n",
       "        text-align: right;\n",
       "    }\n",
       "</style>\n",
       "<table border=\"1\" class=\"dataframe\">\n",
       "  <thead>\n",
       "    <tr style=\"text-align: right;\">\n",
       "      <th></th>\n",
       "      <th>Title</th>\n",
       "      <th>Geek Rating</th>\n",
       "      <th>Link</th>\n",
       "      <th>Min Player No.</th>\n",
       "      <th>Max Player No.</th>\n",
       "      <th>Weight</th>\n",
       "      <th>Designers</th>\n",
       "      <th>Categories</th>\n",
       "      <th>Mechanics</th>\n",
       "      <th>Reimplements</th>\n",
       "      <th>Reimplemented by</th>\n",
       "    </tr>\n",
       "  </thead>\n",
       "  <tbody>\n",
       "    <tr>\n",
       "      <th>2769</th>\n",
       "      <td>Decktet</td>\n",
       "      <td>5.944</td>\n",
       "      <td>https://boardgamegeek.com/boardgame/37301/decktet</td>\n",
       "      <td>NaN</td>\n",
       "      <td>NaN</td>\n",
       "      <td>NaN</td>\n",
       "      <td>NaN</td>\n",
       "      <td>NaN</td>\n",
       "      <td>NaN</td>\n",
       "      <td>NaN</td>\n",
       "      <td>NaN</td>\n",
       "    </tr>\n",
       "    <tr>\n",
       "      <th>2949</th>\n",
       "      <td>Unpublished Prototype</td>\n",
       "      <td>5.912</td>\n",
       "      <td>https://boardgamegeek.com/boardgame/18291/unpu...</td>\n",
       "      <td>NaN</td>\n",
       "      <td>NaN</td>\n",
       "      <td>NaN</td>\n",
       "      <td>NaN</td>\n",
       "      <td>NaN</td>\n",
       "      <td>NaN</td>\n",
       "      <td>NaN</td>\n",
       "      <td>NaN</td>\n",
       "    </tr>\n",
       "    <tr>\n",
       "      <th>3054</th>\n",
       "      <td>Traditional Card Games</td>\n",
       "      <td>5.894</td>\n",
       "      <td>https://boardgamegeek.com/boardgame/21804/trad...</td>\n",
       "      <td>NaN</td>\n",
       "      <td>NaN</td>\n",
       "      <td>NaN</td>\n",
       "      <td>NaN</td>\n",
       "      <td>NaN</td>\n",
       "      <td>NaN</td>\n",
       "      <td>NaN</td>\n",
       "      <td>NaN</td>\n",
       "    </tr>\n",
       "    <tr>\n",
       "      <th>3736</th>\n",
       "      <td>Outside the Scope of BGG</td>\n",
       "      <td>5.805</td>\n",
       "      <td>https://boardgamegeek.com/boardgame/23953/outs...</td>\n",
       "      <td>NaN</td>\n",
       "      <td>NaN</td>\n",
       "      <td>NaN</td>\n",
       "      <td>NaN</td>\n",
       "      <td>NaN</td>\n",
       "      <td>NaN</td>\n",
       "      <td>NaN</td>\n",
       "      <td>NaN</td>\n",
       "    </tr>\n",
       "    <tr>\n",
       "      <th>5212</th>\n",
       "      <td>Miscellaneous Game Accessory</td>\n",
       "      <td>5.682</td>\n",
       "      <td>https://boardgamegeek.com/boardgame/5985/misce...</td>\n",
       "      <td>NaN</td>\n",
       "      <td>NaN</td>\n",
       "      <td>NaN</td>\n",
       "      <td>NaN</td>\n",
       "      <td>NaN</td>\n",
       "      <td>NaN</td>\n",
       "      <td>NaN</td>\n",
       "      <td>NaN</td>\n",
       "    </tr>\n",
       "    <tr>\n",
       "      <th>5838</th>\n",
       "      <td>Piecepack</td>\n",
       "      <td>5.649</td>\n",
       "      <td>https://boardgamegeek.com/boardgame/2860/piece...</td>\n",
       "      <td>NaN</td>\n",
       "      <td>NaN</td>\n",
       "      <td>NaN</td>\n",
       "      <td>NaN</td>\n",
       "      <td>NaN</td>\n",
       "      <td>NaN</td>\n",
       "      <td>NaN</td>\n",
       "      <td>NaN</td>\n",
       "    </tr>\n",
       "    <tr>\n",
       "      <th>7291</th>\n",
       "      <td>Monsterpocalypse Miniatures Game</td>\n",
       "      <td>5.599</td>\n",
       "      <td>https://boardgamegeek.com/boardgame/248641/mon...</td>\n",
       "      <td>NaN</td>\n",
       "      <td>NaN</td>\n",
       "      <td>NaN</td>\n",
       "      <td>NaN</td>\n",
       "      <td>NaN</td>\n",
       "      <td>NaN</td>\n",
       "      <td>NaN</td>\n",
       "      <td>NaN</td>\n",
       "    </tr>\n",
       "    <tr>\n",
       "      <th>7433</th>\n",
       "      <td>Fear God and Dread Nought</td>\n",
       "      <td>5.596</td>\n",
       "      <td>https://boardgamegeek.com/boardgame/6540/fear-...</td>\n",
       "      <td>NaN</td>\n",
       "      <td>NaN</td>\n",
       "      <td>NaN</td>\n",
       "      <td>NaN</td>\n",
       "      <td>NaN</td>\n",
       "      <td>NaN</td>\n",
       "      <td>NaN</td>\n",
       "      <td>NaN</td>\n",
       "    </tr>\n",
       "    <tr>\n",
       "      <th>8353</th>\n",
       "      <td>General Quarters</td>\n",
       "      <td>5.577</td>\n",
       "      <td>https://boardgamegeek.com/boardgame/16435/gene...</td>\n",
       "      <td>NaN</td>\n",
       "      <td>NaN</td>\n",
       "      <td>NaN</td>\n",
       "      <td>NaN</td>\n",
       "      <td>NaN</td>\n",
       "      <td>NaN</td>\n",
       "      <td>NaN</td>\n",
       "      <td>NaN</td>\n",
       "    </tr>\n",
       "    <tr>\n",
       "      <th>9832</th>\n",
       "      <td>The Badger Deck</td>\n",
       "      <td>5.555</td>\n",
       "      <td>https://boardgamegeek.com/boardgame/160950/bad...</td>\n",
       "      <td>NaN</td>\n",
       "      <td>NaN</td>\n",
       "      <td>NaN</td>\n",
       "      <td>NaN</td>\n",
       "      <td>NaN</td>\n",
       "      <td>NaN</td>\n",
       "      <td>NaN</td>\n",
       "      <td>NaN</td>\n",
       "    </tr>\n",
       "    <tr>\n",
       "      <th>9965</th>\n",
       "      <td>Connection Games</td>\n",
       "      <td>5.553</td>\n",
       "      <td>https://boardgamegeek.com/boardgame/17821/conn...</td>\n",
       "      <td>NaN</td>\n",
       "      <td>NaN</td>\n",
       "      <td>NaN</td>\n",
       "      <td>NaN</td>\n",
       "      <td>NaN</td>\n",
       "      <td>NaN</td>\n",
       "      <td>NaN</td>\n",
       "      <td>NaN</td>\n",
       "    </tr>\n",
       "  </tbody>\n",
       "</table>\n",
       "</div>"
      ],
      "text/plain": [
       "                                 Title  Geek Rating  \\\n",
       "2769                           Decktet        5.944   \n",
       "2949             Unpublished Prototype        5.912   \n",
       "3054            Traditional Card Games        5.894   \n",
       "3736          Outside the Scope of BGG        5.805   \n",
       "5212      Miscellaneous Game Accessory        5.682   \n",
       "5838                         Piecepack        5.649   \n",
       "7291  Monsterpocalypse Miniatures Game        5.599   \n",
       "7433         Fear God and Dread Nought        5.596   \n",
       "8353                  General Quarters        5.577   \n",
       "9832                   The Badger Deck        5.555   \n",
       "9965                  Connection Games        5.553   \n",
       "\n",
       "                                                   Link  Min Player No.  \\\n",
       "2769  https://boardgamegeek.com/boardgame/37301/decktet             NaN   \n",
       "2949  https://boardgamegeek.com/boardgame/18291/unpu...             NaN   \n",
       "3054  https://boardgamegeek.com/boardgame/21804/trad...             NaN   \n",
       "3736  https://boardgamegeek.com/boardgame/23953/outs...             NaN   \n",
       "5212  https://boardgamegeek.com/boardgame/5985/misce...             NaN   \n",
       "5838  https://boardgamegeek.com/boardgame/2860/piece...             NaN   \n",
       "7291  https://boardgamegeek.com/boardgame/248641/mon...             NaN   \n",
       "7433  https://boardgamegeek.com/boardgame/6540/fear-...             NaN   \n",
       "8353  https://boardgamegeek.com/boardgame/16435/gene...             NaN   \n",
       "9832  https://boardgamegeek.com/boardgame/160950/bad...             NaN   \n",
       "9965  https://boardgamegeek.com/boardgame/17821/conn...             NaN   \n",
       "\n",
       "      Max Player No.  Weight Designers Categories Mechanics Reimplements  \\\n",
       "2769             NaN     NaN       NaN        NaN       NaN          NaN   \n",
       "2949             NaN     NaN       NaN        NaN       NaN          NaN   \n",
       "3054             NaN     NaN       NaN        NaN       NaN          NaN   \n",
       "3736             NaN     NaN       NaN        NaN       NaN          NaN   \n",
       "5212             NaN     NaN       NaN        NaN       NaN          NaN   \n",
       "5838             NaN     NaN       NaN        NaN       NaN          NaN   \n",
       "7291             NaN     NaN       NaN        NaN       NaN          NaN   \n",
       "7433             NaN     NaN       NaN        NaN       NaN          NaN   \n",
       "8353             NaN     NaN       NaN        NaN       NaN          NaN   \n",
       "9832             NaN     NaN       NaN        NaN       NaN          NaN   \n",
       "9965             NaN     NaN       NaN        NaN       NaN          NaN   \n",
       "\n",
       "     Reimplemented by  \n",
       "2769              NaN  \n",
       "2949              NaN  \n",
       "3054              NaN  \n",
       "3736              NaN  \n",
       "5212              NaN  \n",
       "5838              NaN  \n",
       "7291              NaN  \n",
       "7433              NaN  \n",
       "8353              NaN  \n",
       "9832              NaN  \n",
       "9965              NaN  "
      ]
     },
     "execution_count": 3,
     "metadata": {},
     "output_type": "execute_result"
    }
   ],
   "source": [
    "df.loc[df.isnull().any(axis = 1)]"
   ]
  },
  {
   "cell_type": "code",
   "execution_count": 4,
   "id": "9e9c799d",
   "metadata": {},
   "outputs": [],
   "source": [
    "df.dropna(inplace = True)"
   ]
  },
  {
   "cell_type": "markdown",
   "id": "91961b62",
   "metadata": {},
   "source": [
    "## Cleaning the data"
   ]
  },
  {
   "cell_type": "code",
   "execution_count": 5,
   "id": "6bd9c1ea",
   "metadata": {},
   "outputs": [],
   "source": [
    "for column in ['Min Player No.', 'Max Player No.']:\n",
    "    df[column] = df[column].apply(lambda x: int(x))"
   ]
  },
  {
   "cell_type": "code",
   "execution_count": 6,
   "id": "96edd02d",
   "metadata": {},
   "outputs": [],
   "source": [
    "from ast import literal_eval\n",
    "\n",
    "for column in ['Designers', 'Categories', 'Mechanics', 'Reimplements', 'Reimplemented by']:\n",
    "    df[column] = df[column].apply(literal_eval)"
   ]
  },
  {
   "cell_type": "markdown",
   "id": "b20fab57",
   "metadata": {},
   "source": [
    "### Ensuring that any bracketed years I remove from the reimplementation list titles are not part of the title of any of the top 10,000 games"
   ]
  },
  {
   "cell_type": "code",
   "execution_count": 7,
   "id": "49008cee",
   "metadata": {},
   "outputs": [],
   "source": [
    "all_games_reimplemented = []\n",
    "for x in df['Reimplements']:\n",
    "    for y in x:\n",
    "        all_games_reimplemented.append(y)\n",
    "\n",
    "all_games_reimplemented = set(all_games_reimplemented)"
   ]
  },
  {
   "cell_type": "code",
   "execution_count": 8,
   "id": "acd677e2",
   "metadata": {},
   "outputs": [],
   "source": [
    "all_games_reimplementing = []\n",
    "for x in df['Reimplemented by']:\n",
    "    for y in x:\n",
    "        all_games_reimplementing.append(y)\n",
    "\n",
    "all_games_reimplementing = set(all_games_reimplementing)"
   ]
  },
  {
   "cell_type": "code",
   "execution_count": 9,
   "id": "3be72ff3",
   "metadata": {},
   "outputs": [
    {
     "name": "stdout",
     "output_type": "stream",
     "text": [
      "MIL (1049)\n",
      "Horus Heresy (1993)\n",
      "The Invasion of Russia (1812)\n"
     ]
    }
   ],
   "source": [
    "ends_in_year_brackets = []\n",
    "\n",
    "for x in df['Title']:\n",
    "    statement = False\n",
    "    if x[-1] == ')':\n",
    "        bracketed_string = x[x.rfind('('):]\n",
    "        if len(bracketed_string) == 6:\n",
    "            try:\n",
    "                year = int(bracketed_string[1:-1])\n",
    "                if 1000 <= year <= 3000:\n",
    "                    statement = True\n",
    "            except:\n",
    "                pass\n",
    "    ends_in_year_brackets.append(statement)\n",
    "    \n",
    "game_titles_ending_in_years = []\n",
    "\n",
    "for x in df.loc[ends_in_year_brackets]['Title']:\n",
    "    game_titles_ending_in_years.append(x)\n",
    "    \n",
    "for x in game_titles_ending_in_years:\n",
    "    print(x)"
   ]
  },
  {
   "cell_type": "code",
   "execution_count": 10,
   "id": "2d18943e",
   "metadata": {},
   "outputs": [],
   "source": [
    "for x in game_titles_ending_in_years:\n",
    "    for y in all_games_reimplemented.union(all_games_reimplementing):\n",
    "        if x in y:\n",
    "            print(x)\n",
    "            break"
   ]
  },
  {
   "cell_type": "markdown",
   "id": "7f75a392",
   "metadata": {},
   "source": [
    "### Removing publishing years from reimplementation data titles"
   ]
  },
  {
   "cell_type": "code",
   "execution_count": 11,
   "id": "85afba65",
   "metadata": {},
   "outputs": [],
   "source": [
    "for i, x in enumerate(df['Reimplements']):\n",
    "    for j, y in enumerate(x):\n",
    "        if y[-1] == ')':\n",
    "            bracketed_string = y[y.rfind('('):]\n",
    "            if len(bracketed_string) == 6:\n",
    "                try:\n",
    "                    year = int(bracketed_string[1:-1])\n",
    "                    if 1000 <= year <= 3000:\n",
    "                        statement = True\n",
    "                    df['Reimplements'].iloc[i][j] = y[:-7]\n",
    "                except:\n",
    "                    pass"
   ]
  },
  {
   "cell_type": "code",
   "execution_count": 12,
   "id": "5a09efff",
   "metadata": {},
   "outputs": [],
   "source": [
    "for i, x in enumerate(df['Reimplemented by']):\n",
    "    for j, y in enumerate(x):\n",
    "        if y[-1] == ')':\n",
    "            bracketed_string = y[y.rfind('('):]\n",
    "            if len(bracketed_string) == 6:\n",
    "                try:\n",
    "                    year = int(bracketed_string[1:-1])\n",
    "                    if 1000 <= year <= 3000:\n",
    "                        statement = True\n",
    "                    df['Reimplemented by'].iloc[i][j] = y[:-7]\n",
    "                except:\n",
    "                    pass"
   ]
  },
  {
   "cell_type": "markdown",
   "id": "b30f42ac",
   "metadata": {},
   "source": [
    "### String cleaning"
   ]
  },
  {
   "cell_type": "code",
   "execution_count": 13,
   "id": "3cb98605",
   "metadata": {},
   "outputs": [],
   "source": [
    "def clean_data(lst):\n",
    "    return [str.lower(x.replace(\" \", \"\")) for x in lst]"
   ]
  },
  {
   "cell_type": "code",
   "execution_count": 14,
   "id": "e09f4a8d",
   "metadata": {},
   "outputs": [],
   "source": [
    "for column in ['Designers', 'Categories', 'Mechanics']:\n",
    "    df[column] = df[column].apply(clean_data)"
   ]
  },
  {
   "cell_type": "markdown",
   "id": "db089566",
   "metadata": {},
   "source": [
    "## Soup creation"
   ]
  },
  {
   "cell_type": "code",
   "execution_count": 15,
   "id": "7b189448",
   "metadata": {},
   "outputs": [],
   "source": [
    "def create_soup(df):\n",
    "    return ' '.join(df['Designers']) + ' ' + ' '.join(df['Categories']) + ' ' + ' '.join(df['Mechanics'])"
   ]
  },
  {
   "cell_type": "code",
   "execution_count": 16,
   "id": "08aaec59",
   "metadata": {},
   "outputs": [],
   "source": [
    "df['Soup'] = df.apply(create_soup, axis = 1)"
   ]
  },
  {
   "cell_type": "markdown",
   "id": "341373a3",
   "metadata": {},
   "source": [
    "# Developing the Recommender"
   ]
  },
  {
   "cell_type": "code",
   "execution_count": 17,
   "id": "bb791ef9",
   "metadata": {},
   "outputs": [],
   "source": [
    "from sklearn.feature_extraction.text import CountVectorizer\n",
    "\n",
    "count = CountVectorizer(stop_words='english')\n",
    "count_matrix = count.fit_transform(df['Soup'])"
   ]
  },
  {
   "cell_type": "code",
   "execution_count": 18,
   "id": "798caf52",
   "metadata": {},
   "outputs": [],
   "source": [
    "from sklearn.metrics.pairwise import cosine_similarity\n",
    "\n",
    "cosine_sim = cosine_similarity(count_matrix, count_matrix)"
   ]
  },
  {
   "cell_type": "code",
   "execution_count": 19,
   "id": "65b3b913",
   "metadata": {},
   "outputs": [],
   "source": [
    "df.reset_index(drop = True, inplace = True)\n",
    "indices = pd.Series(df.index, index = df['Title'])"
   ]
  },
  {
   "cell_type": "code",
   "execution_count": 20,
   "id": "85fedecd",
   "metadata": {},
   "outputs": [],
   "source": [
    "import numpy as np\n",
    "\n",
    "def get_recommendations(title):\n",
    "    try:\n",
    "        idx = indices[title]\n",
    "    except:\n",
    "        print('Couldn\\'t find the title. Make sure you\\'ve spelled it correctly (according to Board Game Geek) and that it is in the top 10,000 Board Game Geek games.')\n",
    "        return None\n",
    "    \n",
    "    if type(idx) is not np.int64:\n",
    "        print('There are multiple games titled {}. Enter the number corresponding to the correct link:'.format(title))\n",
    "        for link in df.loc[df['Title'] == title]['Link'].values:\n",
    "            print(str(df.loc[df['Link'] == link].index.values[0]) + ': ' + link)\n",
    "        idx = int(input())\n",
    "    \n",
    "    sim_scores = list(enumerate(cosine_sim[idx]))\n",
    "    sim_scores = sorted(sim_scores, key = lambda x: x[1], reverse = True)\n",
    "    sim_scores = sim_scores[1:31]\n",
    "    \n",
    "    game_indices = [i[0] for i in sim_scores]\n",
    "    similar_games = df.iloc[game_indices].copy()\n",
    "    similar_games.reset_index(drop = True, inplace = True)\n",
    "    \n",
    "    reimplements_locations = []\n",
    "    for i, x in enumerate(similar_games['Title']):\n",
    "        if x in df.iloc[idx]['Reimplements']:\n",
    "            reimplements_locations.append(i)\n",
    "    similar_games.drop(reimplements_locations, inplace = True)\n",
    "    similar_games.reset_index(drop = True, inplace = True)\n",
    "    \n",
    "    reimplemented_by_locations = []\n",
    "    for i, x in enumerate(similar_games['Title']):\n",
    "        if x in df.iloc[idx]['Reimplemented by']:\n",
    "            reimplemented_by_locations.append(i)\n",
    "    similar_games.drop(reimplemented_by_locations, inplace = True)\n",
    "    similar_games.reset_index(drop = True, inplace = True)\n",
    "    \n",
    "    incompatible_player_number_locations = []\n",
    "    for i in range(len(similar_games)):\n",
    "        if (similar_games.iloc[i]['Min Player No.'] > df.iloc[idx]['Max Player No.']) or (similar_games.iloc[i]['Max Player No.'] < df.iloc[idx]['Min Player No.']):\n",
    "            incompatible_player_number_locations.append(i)\n",
    "    similar_games.drop(incompatible_player_number_locations, inplace = True)\n",
    "    \n",
    "    similar_games.sort_values('Geek Rating', ascending = False, inplace = True)\n",
    "    \n",
    "    print('Check out these games:\\n')\n",
    "    \n",
    "    for i in range(min(10, len(similar_games))):\n",
    "        print('{}: {} has a weight of {}/5. Find more info on it here: {}.'.format(i + 1, similar_games.iloc[i]['Title'], similar_games.iloc[i]['Weight'], similar_games.iloc[i]['Link']))\n",
    "    \n",
    "    if df.iloc[idx]['Reimplements'] != []:\n",
    "        print('\\n\\n\\n{} reimplements the following games:\\n'.format(title))\n",
    "        for x in df.iloc[idx]['Reimplements']:\n",
    "            if x in df['Title'].values:\n",
    "                print('{}. Find more info on it here: {}.'.format(x, df.loc[df['Title'] == x]['Link'].values[0]))\n",
    "    \n",
    "    if df.iloc[idx]['Reimplemented by'] != []:\n",
    "        print('\\n\\n\\n{} is reimplemented by the following games:\\n'.format(title))\n",
    "        for x in df.iloc[idx]['Reimplemented by']:\n",
    "            if x in df['Title'].values:\n",
    "                print('{}. Find more info on it here: {}.'.format(x, df.loc[df['Title'] == x]['Link'].values[0]))"
   ]
  },
  {
   "cell_type": "markdown",
   "id": "e532df9c",
   "metadata": {},
   "source": [
    "# Recommender "
   ]
  },
  {
   "cell_type": "code",
   "execution_count": 21,
   "id": "95d613c1",
   "metadata": {
    "scrolled": true
   },
   "outputs": [
    {
     "name": "stdout",
     "output_type": "stream",
     "text": [
      "Check out these games:\n",
      "\n",
      "1: Kingdomino has a weight of 1.22/5. Find more info on it here: https://boardgamegeek.com/boardgame/204583/kingdomino.\n",
      "2: Cacao has a weight of 1.82/5. Find more info on it here: https://boardgamegeek.com/boardgame/171499/cacao.\n",
      "3: Keyper has a weight of 3.6/5. Find more info on it here: https://boardgamegeek.com/boardgame/212516/keyper.\n",
      "4: Fjords has a weight of 1.72/5. Find more info on it here: https://boardgamegeek.com/boardgame/15511/fjords.\n",
      "5: Carcassonne: Wheel of Fortune has a weight of 2.05/5. Find more info on it here: https://boardgamegeek.com/boardgame/45748/carcassonne-wheel-fortune.\n",
      "6: Topoum has a weight of 2.43/5. Find more info on it here: https://boardgamegeek.com/boardgame/188314/topoum.\n",
      "7: Khronos has a weight of 3.57/5. Find more info on it here: https://boardgamegeek.com/boardgame/25674/khronos.\n",
      "8: Canterbury has a weight of 3.09/5. Find more info on it here: https://boardgamegeek.com/boardgame/136440/canterbury.\n",
      "9: Infinite City has a weight of 1.89/5. Find more info on it here: https://boardgamegeek.com/boardgame/46807/infinite-city.\n",
      "10: Noxford has a weight of 1.83/5. Find more info on it here: https://boardgamegeek.com/boardgame/206448/noxford.\n",
      "\n",
      "\n",
      "\n",
      "Carcassonne is reimplemented by the following games:\n",
      "\n",
      "The Ark of the Covenant. Find more info on it here: https://boardgamegeek.com/boardgame/6779/ark-covenant.\n",
      "Carcassonne für 2. Find more info on it here: https://boardgamegeek.com/boardgame/230751/carcassonne-fur-2.\n",
      "Carcassonne Junior. Find more info on it here: https://boardgamegeek.com/boardgame/41010/carcassonne-junior.\n",
      "Carcassonne: Amazonas. Find more info on it here: https://boardgamegeek.com/boardgame/206940/carcassonne-amazonas.\n",
      "Carcassonne: Gold Rush. Find more info on it here: https://boardgamegeek.com/boardgame/163370/carcassonne-gold-rush.\n",
      "Carcassonne: Hunters and Gatherers. Find more info on it here: https://boardgamegeek.com/boardgame/4390/carcassonne-hunters-and-gatherers.\n",
      "Carcassonne: Over Hill and Dale. Find more info on it here: https://boardgamegeek.com/boardgame/182082/carcassonne-over-hill-and-dale.\n",
      "Carcassonne: Safari. Find more info on it here: https://boardgamegeek.com/boardgame/256065/carcassonne-safari.\n",
      "Carcassonne: South Seas. Find more info on it here: https://boardgamegeek.com/boardgame/147303/carcassonne-south-seas.\n",
      "Carcassonne: Star Wars. Find more info on it here: https://boardgamegeek.com/boardgame/180564/carcassonne-star-wars.\n",
      "Carcassonne: The Castle. Find more info on it here: https://boardgamegeek.com/boardgame/7717/carcassonne-castle.\n",
      "Carcassonne: The City. Find more info on it here: https://boardgamegeek.com/boardgame/12902/carcassonne-city.\n",
      "Carcassonne: The Discovery. Find more info on it here: https://boardgamegeek.com/boardgame/16216/carcassonne-discovery.\n",
      "Carcassonne: Winter Edition. Find more info on it here: https://boardgamegeek.com/boardgame/131014/carcassonne-winter-edition.\n",
      "New World: A Carcassonne Game. Find more info on it here: https://boardgamegeek.com/boardgame/34615/new-world-carcassonne-game.\n",
      "Travel Carcassonne. Find more info on it here: https://boardgamegeek.com/boardgame/30662/travel-carcassonne.\n"
     ]
    }
   ],
   "source": [
    "get_recommendations('Carcassonne')"
   ]
  }
 ],
 "metadata": {
  "kernelspec": {
   "display_name": "Python 3 (ipykernel)",
   "language": "python",
   "name": "python3"
  },
  "language_info": {
   "codemirror_mode": {
    "name": "ipython",
    "version": 3
   },
   "file_extension": ".py",
   "mimetype": "text/x-python",
   "name": "python",
   "nbconvert_exporter": "python",
   "pygments_lexer": "ipython3",
   "version": "3.9.6"
  }
 },
 "nbformat": 4,
 "nbformat_minor": 5
}
